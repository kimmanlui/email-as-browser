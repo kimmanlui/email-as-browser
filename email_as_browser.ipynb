{
 "cells": [
  {
   "cell_type": "markdown",
   "id": "ea42eccf-6371-446f-aaed-209a3ae758bf",
   "metadata": {},
   "source": [
    "# email-as-browser"
   ]
  },
  {
   "cell_type": "markdown",
   "id": "ce038866-bbca-4753-b8db-58e970a22966",
   "metadata": {},
   "source": [
    "Version 2.1"
   ]
  },
  {
   "cell_type": "markdown",
   "id": "c147379b-5092-4b1d-b534-8a04dca88fb0",
   "metadata": {},
   "source": [
    "This project allows users to use an email as a browser. <br> Using email-as-browser will greatly [1] improve the security and [2] reduce the setup cost."
   ]
  },
  {
   "cell_type": "code",
   "execution_count": 1,
   "id": "8fc0f63d",
   "metadata": {},
   "outputs": [],
   "source": [
    "# Extra Packages and Function\n",
    "#\n",
    "import pdfkit\n",
    "from os.path import basename\n",
    "from email.mime.application import MIMEApplication\n",
    "from email.mime.multipart import MIMEMultipart\n",
    "from email.mime.text import MIMEText\n",
    "from email.utils import COMMASPACE, formatdate\n",
    "\n",
    "from email.header import decode_header\n",
    "\n",
    "def checkSubjectUTF8(text):\n",
    "    if len(text)>=7 and text[0:6]=='=?big5':\n",
    "        print(\"big5 encode\")\n",
    "        text=decode_header(message[\"Subject\"])[0][0].decode('big5')\n",
    "    if len(text)>=9 and text[0:8]=='=?gb2312':\n",
    "        print(\"gb2312 encode\")\n",
    "        text=decode_header(message[\"Subject\"])[0][0].decode('gb2312')\n",
    "    if len(text)>=14 and text[0:13]=='=?iso-2022-jp':\n",
    "        print(\"iso-2022-jp encode\")\n",
    "        text=decode_header(message[\"Subject\"])[0][0].decode('iso-2022-jp')     \n",
    "    return(text) \n",
    "\n",
    "def checkPatternString(text, pattern='http://'):\n",
    "    pat=\"(^| )\"+pattern+\"(.*)\"\n",
    "    commandLen=len(pattern)\n",
    "    x = re.search(pat, text)\n",
    "    if x:\n",
    "        return(1)\n",
    "    return(0)\n",
    "\n",
    "def extractPatternString(text, pattern='http://'):\n",
    "    pat=\"(^| )\"+pattern+\"(.*)\"\n",
    "    commandLen=len(pattern)\n",
    "    x = re.search(pat, text)\n",
    "    if x:\n",
    "        extractText=x.group(0)\n",
    "        para=extractText[commandLen:].strip()\n",
    "        return(para)"
   ]
  },
  {
   "cell_type": "code",
   "execution_count": 27,
   "id": "81922e69",
   "metadata": {},
   "outputs": [
    {
     "name": "stdout",
     "output_type": "stream",
     "text": [
      "Version: 2023-04-1  debug :0\n"
     ]
    }
   ],
   "source": [
    "import requests\n",
    "import re\n",
    "import bs4\n",
    "import pandas as pd\n",
    "\n",
    "import os\n",
    "import sys\n",
    "import time\n",
    "import imaplib\n",
    "import email\n",
    "from datetime import datetime\n",
    "import re\n",
    "import base64\n",
    "import traceback \n",
    "from datetime import datetime as dt\n",
    "\n",
    "\n",
    "import smtplib\n",
    "import sys\n",
    "\n",
    "from bs4 import BeautifulSoup \n",
    "\n",
    "conf_file='/media/zorin/casper-rw/prj/email-as-browser/email_as_browser_conf.xml'\n",
    "ver=\"Version: 2023-04-1\"\n",
    "debug=0\n",
    "print(ver+\"  debug :\"+str(debug+0))"
   ]
  },
  {
   "cell_type": "code",
   "execution_count": 3,
   "id": "b98c9be3-38df-42c3-88d6-8018af926910",
   "metadata": {},
   "outputs": [],
   "source": [
    "# Reading the data inside the xml file to a variable under the name  data\n",
    "with open(conf_file , 'r') as f:\n",
    "    data_conf = f.read() \n",
    "bs_data = BeautifulSoup(data_conf, 'xml')\n",
    "\n",
    "smtp_server  = bs_data.find('data', {'name':'smtp_server'}).text\n",
    "smtp_port    = bs_data.find('data', {'name':'smtp_port'}).text\n",
    "smtp_login   = bs_data.find('data', {'name':'smtp_login'}).text\n",
    "smtp_pwd     = bs_data.find('data', {'name':'smtp_pwd'}).text\n",
    "\n",
    "TO_MAIL      = bs_data.find('data', {'name':'TO_MAIL'}).text\n",
    "FM_MAIL      = bs_data.find('data', {'name':'FM_MAIL'}).text\n",
    "\n",
    "IMAP_username= bs_data.find('data', {'name':'IMAP_username'}).text\n",
    "IMAP_password= bs_data.find('data', {'name':'IMAP_password'}).text\n",
    "IMAP_SERVER  = bs_data.find('data', {'name':'IMAP_SERVER'}).text\n",
    "IMAP_PORT    = bs_data.find('data', {'name':'IMAP_PORT'}).text\n",
    "\n",
    "\n",
    "smtp_port=int(smtp_port)\n",
    "IMAP_PORT=int(IMAP_PORT)"
   ]
  },
  {
   "cell_type": "code",
   "execution_count": 4,
   "id": "e60ee281-2915-4183-af6c-fee1330e1913",
   "metadata": {},
   "outputs": [],
   "source": [
    "if 1==2:\n",
    "    print(smtp_server)\n",
    "    print(smtp_port)    \n",
    "    print(smtp_login)\n",
    "    print(smtp_pwd)    \n",
    "    print(TO_MAIL)\n",
    "    print(FM_MAIL)    \n",
    "    print(IMAP_username)\n",
    "    print(IMAP_password) \n",
    "    print(IMAP_SERVER) \n",
    "    print(IMAP_PORT) "
   ]
  },
  {
   "cell_type": "code",
   "execution_count": 5,
   "id": "cf6fec0e",
   "metadata": {},
   "outputs": [],
   "source": []
  },
  {
   "cell_type": "code",
   "execution_count": 6,
   "id": "e4dd02ed",
   "metadata": {},
   "outputs": [],
   "source": [
    "# REF: https://stackoverflow.com/questions/3362600/how-to-send-email-attachments\n",
    "def mymail(to, subject, body, fm, files=None):\n",
    "    #body = '<font face=\"Consolas\" size=\"10\">' + body + '</font>'\n",
    "    msg = email.message_from_string(body)\n",
    "    msg = MIMEMultipart()\n",
    "    msg['From'] = fm\n",
    "    msg['To'] = to\n",
    "    msg['Date'] = formatdate(localtime=True) #new\n",
    "    msg['Subject'] = subject\n",
    "    msg.attach(MIMEText(body))\n",
    "    \n",
    "    for f in files or []:\n",
    "        print(\"attachment for \"+f)\n",
    "        with open(f, \"rb\") as fil:\n",
    "            part = MIMEApplication(\n",
    "                fil.read(),\n",
    "                Name=basename(f)\n",
    "            )\n",
    "        # After the file is closed\n",
    "        part['Content-Disposition'] = 'attachment; filename=\"%s\"' % basename(f)\n",
    "        msg.attach(part)\n",
    "        \n",
    "    \n",
    "    s = smtplib.SMTP(smtp_server,smtp_port)\n",
    "    #s = smtplib.SMTP(\"smtp.gmail.com\",587)\n",
    "    #s = smtplib.SMTP(\"smtp-mail.outlook.com\",587)\n",
    "\n",
    "    s.ehlo() # Hostname to send for this command defaults to the fully qualified domain name of the local host.\n",
    "    s.starttls() #Puts connection to SMTP server in TLS mode\n",
    "    s.ehlo()\n",
    "    s.login(smtp_login, smtp_pwd)  #app passsword\n",
    "    s.sendmail(fm, to,msg.as_string())\n",
    "\n",
    " "
   ]
  },
  {
   "cell_type": "code",
   "execution_count": 7,
   "id": "35397d6f",
   "metadata": {},
   "outputs": [],
   "source": []
  },
  {
   "cell_type": "code",
   "execution_count": 8,
   "id": "0b7f59f1",
   "metadata": {},
   "outputs": [],
   "source": [
    "\n",
    "###################################################################### CUSTOMIZATION START\n",
    "outputfile='/media/zorin/casper-rw/prj/email-as-browser/out.pdf'\n",
    "\n",
    "def cmdQuery(query, qType==2):\n",
    "    if qType!=2:\n",
    "       query=query.replace(' ', '+')\n",
    "       targetURL=\"https://www.google.com/search?client=firefox-b-d&q=\"+query\n",
    "       imageTab=\"&hl=xx-elmer&tbm=isch&sxsrf=APwXEdcm2r14Jv4KLoScGrD-QI3nCbPL7Q%3A1680750182628&source=hp&biw=1600&bih=757&ei=ZjYuZLO5JOjP2roPi5eFiA4&iflsig=AOEireoAAAAAZC5Edg3Tx0HwXX4YxaseUjrfyAjAKzfs&oq=shenzhen+map&gs_lcp=CgNpbWcQARgAMgcIABCABBATMgcIABCABBATMgcIABCABBATMgcIABCABBATMggIABAIEB4QEzIICAAQCBAeEBMyCAgAEAgQHhATMggIABAIEB4QEzIICAAQCBAeEBMyCAgAEAgQHhATUABYAGDnD2gAcAB4AIABQIgBQJIBATGYAQCqAQtnd3Mtd2l6LWltZ8ABAQ&sclient=img\"\n",
    "       if qType==1:\n",
    "            targetURL=targetURL+imageTab\n",
    "            \n",
    "    print(targetURL)\n",
    "    try:\n",
    "        pdfkit.from_url(targetURL, outputfile)\n",
    "    except OSError as e:\n",
    "        if 'Done' not in str(e):\n",
    "            #raise e\n",
    "            print(\"Ignore OSError\")\n",
    "    now = str(datetime.now())[1:19]        \n",
    "    mymail(TO_MAIL, query, now+\"   URL: \"+targetURL , FM_MAIL, [outputfile] )\n",
    "\n",
    "\n",
    "\n",
    "###################################################################### CUSTOMIZATION END"
   ]
  },
  {
   "cell_type": "code",
   "execution_count": null,
   "id": "369f9b11-e21f-41a2-ba07-b71b5dc91836",
   "metadata": {},
   "outputs": [],
   "source": [
    "#mymail('kimman.xxxxx@xxxxx.com','test', 'body',FM_MAIL) \n",
    "\n"
   ]
  },
  {
   "cell_type": "code",
   "execution_count": null,
   "id": "8a84b01c-b0fe-4099-982a-a86fe417a4f9",
   "metadata": {},
   "outputs": [],
   "source": []
  },
  {
   "cell_type": "code",
   "execution_count": 9,
   "id": "8e6471df",
   "metadata": {},
   "outputs": [],
   "source": [
    "def waitMin(min):\n",
    "    ###60 sec=1 min\n",
    "    #sec=minx60\n",
    "    time.sleep(60)\n",
    "\n",
    "def handleJunkBox():\n",
    "    statusj, countj = M.select('junk')\n",
    "    _, message_numbers_raw = M.search(None, 'ALL')\n",
    "    junkMsg=message_numbers_raw[0].split()\n",
    "    if len(junkMsg)>0:\n",
    "        print(\"Moving Junk Msg \"+str(len(junkMsg)))\n",
    "        for i in range(len(junkMsg)):\n",
    "            msg_uid=junkMsg[0]\n",
    "            M.store(msg_uid, '-FLAGS', '\\\\SEEN') \n",
    "            result = M.copy( msg_uid, 'Inbox')\n",
    "            #print(result[0])\n",
    "            if result[0] == 'OK':\n",
    "                mov, data = M.store( msg_uid , '+FLAGS', '(\\\\Deleted)')\n",
    "                M.expunge()"
   ]
  },
  {
   "cell_type": "code",
   "execution_count": null,
   "id": "3e42a042",
   "metadata": {},
   "outputs": [],
   "source": []
  },
  {
   "cell_type": "code",
   "execution_count": 10,
   "id": "c88f7840",
   "metadata": {},
   "outputs": [],
   "source": [
    "M=imaplib.IMAP4_SSL(host=IMAP_SERVER, port=IMAP_PORT)"
   ]
  },
  {
   "cell_type": "code",
   "execution_count": 11,
   "id": "13d8ae21",
   "metadata": {},
   "outputs": [
    {
     "data": {
      "text/plain": [
       "('OK', [b'LOGIN completed.'])"
      ]
     },
     "execution_count": 11,
     "metadata": {},
     "output_type": "execute_result"
    }
   ],
   "source": [
    "M.login(IMAP_username,IMAP_password)"
   ]
  },
  {
   "cell_type": "code",
   "execution_count": 12,
   "id": "75ba8744",
   "metadata": {},
   "outputs": [],
   "source": [
    "handleJunkBox()"
   ]
  },
  {
   "cell_type": "code",
   "execution_count": 13,
   "id": "af903f7d",
   "metadata": {},
   "outputs": [
    {
     "name": "stdout",
     "output_type": "stream",
     "text": [
      "[]\n"
     ]
    }
   ],
   "source": [
    "# get Unseen Message\n",
    "status, count   = M.select('inbox')\n",
    "_, message_numbers_raw = M.search(None, '(UNSEEN)')\n",
    "unseenMsg=message_numbers_raw[0].split()\n",
    "print(unseenMsg)"
   ]
  },
  {
   "cell_type": "code",
   "execution_count": null,
   "id": "934764ea-e444-4053-ace5-f84e8141bb3f",
   "metadata": {},
   "outputs": [],
   "source": []
  },
  {
   "cell_type": "code",
   "execution_count": 15,
   "id": "86bef7e6",
   "metadata": {},
   "outputs": [
    {
     "name": "stdout",
     "output_type": "stream",
     "text": [
      "timestamp:20\n",
      "wait (23:20)\n",
      "timestamp:21\n",
      "an email...arrived... \n",
      "subject: cmd https://www.ctfeshop.com.hk/special/gp.aspx\n",
      "No time para\n",
      "Additional Email Address : No\n",
      "cmd:https://www.ctfeshop.com.hk/special/gp.aspx\n",
      "https://www.ctfeshop.com.hk/special/gp.aspx\n",
      "attachment for /media/zorin/casper-rw/prj/email-as-browser/out.pdf\n",
      "No image cmd\n",
      "wait (23:22)\n"
     ]
    },
    {
     "ename": "SystemExit",
     "evalue": "",
     "output_type": "error",
     "traceback": [
      "An exception has occurred, use %tb to see the full traceback.\n",
      "\u001b[0;31mSystemExit\u001b[0m\n"
     ]
    },
    {
     "name": "stderr",
     "output_type": "stream",
     "text": [
      "/home/zorin/miniconda3/lib/python3.9/site-packages/IPython/core/interactiveshell.py:3452: UserWarning: To exit: use 'exit', 'quit', or Ctrl-D.\n",
      "  warn(\"To exit: use 'exit', 'quit', or Ctrl-D.\", stacklevel=1)\n"
     ]
    }
   ],
   "source": [
    "fromWho='X'\n",
    "subject='X'\n",
    "dieFlag=0\n",
    "firstFlag=0\n",
    "showNumFreqWord=100\n",
    "subjectEmailLast=''\n",
    "\n",
    "#for loopdx in range(5):\n",
    "subjectLast=\"---\"\n",
    "fromWhoLast=\"---\"\n",
    "datetimeLast=dt.now()\n",
    "while 1==1:\n",
    "    \n",
    "    #The program will stop at 59 as a scheduler will start the program each hour again. \n",
    "    stamp=dt.now().minute \n",
    "    if stamp >= 59 and firstFlag==1:   \n",
    "        sys.exit()\n",
    "    if dieFlag==1:\n",
    "        sys.exit()\n",
    "    if debug==1:\n",
    "        print(\"timestamp:\"+str(stamp))\n",
    "    firstFlag=1\n",
    "    ERRORTAG=''\n",
    "\n",
    "    try:  \n",
    "        ERRORTAG=' IMAP'\n",
    "        for messageNumber in unseenMsg:\n",
    "            \n",
    "            print(\"an email...arrived... \")\n",
    "            \n",
    "            _, msg = M.fetch(messageNumber, '(RFC822)')    \n",
    "            message = email.message_from_bytes(msg[0][1])\n",
    "            M.store(messageNumber, '+FLAGS', '\\SEEN') \n",
    "            fromWho=str(message[\"from\"])\n",
    "            toWho=str(message[\"to\"])\n",
    "            subject=str(message[\"subject\"])\n",
    "            status, data = M.fetch(messageNumber,'(UID BODY[TEXT])')\n",
    "            raw_email=data[0][1]\n",
    "            datetimeNow=dt.now()\n",
    "            diff=datetimeNow-datetimeLast\n",
    "            diff_min=(diff.days * 24 * 60) + (diff.seconds/60)\n",
    "            goFlag=1\n",
    "            if fromWhoLast==fromWho and subjectLast==subject and diff_min<1 :\n",
    "                print(\"consider this email as duplicated\")\n",
    "                goFlag=0\n",
    "            fromWhoLast=fromWho\n",
    "            subjectLast=subject\n",
    "            datetimeLast=datetimeNow\n",
    "            \n",
    "            subject = subject.strip()\n",
    "            subject=checkSubjectUTF8(subject)\n",
    "            subjectorg = subject\n",
    "                    \n",
    "###################################################################### CUSTOMIZATION START\n",
    "            if goFlag==1 :\n",
    "                if \"noreply\" not in fromWho:               ### Elimiate POTENTIAL SPAM \n",
    "\n",
    "\n",
    "                    #subject = subject.lower()\n",
    "                    print(\"subject: \"+subject)\n",
    "                    \n",
    "                    intendedAction=\"Ignore this email request as expired (over mins) :\"\n",
    "                    ERRORTAG=' Email-As-Browser'\n",
    "                    timeflag=0\n",
    "                    pat=\"time(\\d\\d.\\d\\d.\\d\\d.\\d\\d.\\d\\d)\"\n",
    "                    commandLen=len('time')\n",
    "                    x = re.search(pat, subject)\n",
    "                    if x:\n",
    "                        extractText=x.group(0)\n",
    "                        para=extractText[commandLen:].strip()\n",
    "                        print(para)\n",
    "                        stamp=datetime.strptime( para, \"%y.%m.%d.%H.%M\")             \n",
    "                        now=datetime.now()\n",
    "                        c=now - stamp\n",
    "                        diffmins = divmod(c.total_seconds(), 60) \n",
    "                        timeflag=1\n",
    "                        if diffmins[0]>15:\n",
    "                            print(intendedAction+str(diffmins[0]) )\n",
    "                            mymail(TO_MAIL, \"timeout : \"+subject, \"timeout \"+str(diffmins[0]) , FM_MAIL)\n",
    "                            continue \n",
    "                    else:\n",
    "                        print(\"No time parameter\")\n",
    "\n",
    "\n",
    "                    intendedAction=\"Additional Email Address :\";\n",
    "                    emailaddr=\"XXX\"\n",
    "                    match = re.search(r'[\\w.+-]+@[\\w-]+\\.[\\w.-]+', subject)\n",
    "                    if match:\n",
    "                        emailaddr=match.group(0)\n",
    "                        print(emailaddr)\n",
    "                    else:\n",
    "                        print(intendedAction+\" No\")\n",
    "\n",
    "\n",
    "                    pat=\"(^| )cmd(.*)\"\n",
    "                    commandLen=len('cmd')\n",
    "                    x = re.search(pat, subject.lower())\n",
    "                    if x:\n",
    "                        extractText=x.group(0)\n",
    "                        extractText=extractText.strip()\n",
    "                        para=extractText[commandLen:].strip()\n",
    "                        ELEL = para.split(',')\n",
    "                        for element in ELEL:\n",
    "                            print(\"cmd:\"+element)\n",
    "                            if checkPatternString(element, 'http://' )==1:\n",
    "                                qType=2\n",
    "                                cmdQuery(element, qType)\n",
    "                            elif checkPatternString(element, 'https://' )==1:\n",
    "                                qType=2\n",
    "                                cmdQuery(element, qType)\n",
    "                            else:\n",
    "                                qType=0\n",
    "                                cmdQuery(element, qType)\n",
    "                            time.sleep(1)\n",
    "                            os.remove(outputfile)\n",
    "                            dieFlag=1\n",
    "                    else:\n",
    "                        print(\"No cmd tag found\")\n",
    "\n",
    "                        \n",
    "                    \n",
    "                    pat=\"(^| )image(.*)\"\n",
    "                    commandLen=len('image')\n",
    "                    x = re.search(pat, subject.lower())\n",
    "                    if x:\n",
    "                        extractText=x.group(0)\n",
    "                        extractText=extractText.strip()\n",
    "                        para=extractText[commandLen:].strip()\n",
    "                        ELEL = para.split(',')\n",
    "                        for element in ELEL:\n",
    "                            print(\"image:\"+element) \n",
    "                            qType=1\n",
    "                            cmdQuery(element, qType)\n",
    "                            time.sleep(1)\n",
    "                            os.remove(outputfile)\n",
    "                            dieFlag=1\n",
    "                    else:\n",
    "                        print(\"No image tag found\")\n",
    "\n",
    " ###################################################################### CUSTOMIZATION END\n",
    "            \n",
    "        now = datetime.now()\n",
    "        current_time = now.strftime(\"%H:%M\")    \n",
    "        print(\"wait (\"+current_time+\")\")    \n",
    "        if debug==1:\n",
    "            break \n",
    "        waitMin(1)  \n",
    "        fromWho='X'\n",
    "        subject='X'\n",
    "        #handleJunkBox\n",
    "        handleJunkBox()\n",
    "        #get Unseen Message\n",
    "        status, count   = M.select('inbox')\n",
    "        _, message_numbers_raw = M.search(None, '(UNSEEN)')\n",
    "        unseenMsg=message_numbers_raw[0].split()  \n",
    "    except:\n",
    "        #traceback.print_exc() \n",
    "        exceptMsg= traceback.format_exc()\n",
    "        print(exceptMsg)\n",
    "        print(\"Exception Occurred\")\n",
    "        if ERRORTAG!=' IMAP':\n",
    "            subjectEmail=\"Exception Occurred :\"+ERRORTAG+\"(\"+subject+\")\"\n",
    "            if subjectEmail!=subjectEmailLast:\n",
    "                mymail(TO_MAIL, subjectEmail, \"Exception Occurred:\"+exceptMsg , FM_MAIL)\n",
    "                subjectEmailLast=subjectEmail\n",
    "            if fromWho!='X':\n",
    "                print(\"problem with this email:\"+fromWho+\", \"+subject) \n",
    "        waitMin(1)\n",
    "        M=imaplib.IMAP4_SSL(host=IMAP_SERVER)\n",
    "        M.login(IMAP_username,IMAP_password)\n",
    "        status, count = M.select('inbox')\n",
    "        print(\"Exception End\")\n",
    "\n",
    "    if debug==1: \n",
    "        break\n",
    "\n",
    "print(\"-END-\")"
   ]
  },
  {
   "cell_type": "code",
   "execution_count": null,
   "id": "7aebfef8",
   "metadata": {},
   "outputs": [],
   "source": []
  },
  {
   "cell_type": "code",
   "execution_count": null,
   "id": "3a8e37db",
   "metadata": {},
   "outputs": [],
   "source": []
  },
  {
   "cell_type": "code",
   "execution_count": null,
   "id": "97e35002",
   "metadata": {},
   "outputs": [],
   "source": [
    "\n"
   ]
  },
  {
   "cell_type": "code",
   "execution_count": null,
   "id": "9447a804",
   "metadata": {},
   "outputs": [],
   "source": []
  },
  {
   "cell_type": "code",
   "execution_count": null,
   "id": "665324ca",
   "metadata": {},
   "outputs": [],
   "source": [
    "\n",
    "\n",
    "\n"
   ]
  },
  {
   "cell_type": "code",
   "execution_count": null,
   "id": "57a68302",
   "metadata": {},
   "outputs": [],
   "source": []
  },
  {
   "cell_type": "code",
   "execution_count": null,
   "id": "60384904",
   "metadata": {},
   "outputs": [],
   "source": []
  }
 ],
 "metadata": {
  "kernelspec": {
   "display_name": "Python 3 (ipykernel)",
   "language": "python",
   "name": "python3"
  },
  "language_info": {
   "codemirror_mode": {
    "name": "ipython",
    "version": 3
   },
   "file_extension": ".py",
   "mimetype": "text/x-python",
   "name": "python",
   "nbconvert_exporter": "python",
   "pygments_lexer": "ipython3",
   "version": "3.9.5"
  }
 },
 "nbformat": 4,
 "nbformat_minor": 5
}
